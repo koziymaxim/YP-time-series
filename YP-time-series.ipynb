{
 "cells": [
  {
   "cell_type": "markdown",
   "metadata": {},
   "source": [
    "# Проект: Прогнозирование заказов такси"
   ]
  },
  {
   "cell_type": "markdown",
   "metadata": {},
   "source": [
    "## Введение"
   ]
  },
  {
   "cell_type": "markdown",
   "metadata": {},
   "source": [
    "_____\n",
    "    \n",
    "**Название проекта**\n",
    "\n",
    "Прогнозирование заказов такси\n",
    "_____\n",
    "**Описание исследования.**\n",
    "\n",
    "Компания «Чётенькое такси» собрала исторические данные о заказах такси в аэропортах. Чтобы привлекать больше водителей в период пиковой нагрузки, нужно спрогнозировать количество заказов такси на следующий час. Необходимо построить модель для такого предсказания.\n",
    "Значение метрики RMSE на тестовой выборке должно быть не больше 48.\n",
    " \n",
    "_____\n",
    "**Задачи исследования.**\n",
    "\n",
    "1. Загрузка данных\n",
    "2. Изучение и обработка данных\n",
    "3. Подготовка выборок для обучения моделей\n",
    "4. Обучение моделей\n",
    "5. Анализ времени обучения, времени предсказания и качества моделей\n",
    "6. Выбор лучшей модели\n",
    "_____\n",
    "**Исходные данные.**\n",
    "    \n",
    "1. taxi.csv — содержит данные о стоимости автомобилей.\n",
    "______\n",
    "\n",
    "**Данное исследование разделим на несколько частей.**\n",
    "\n",
    "***Часть 1. Загрузка данных:***\n",
    "1. Загрузка данных из файлов \n",
    "2. Получение общей информации о датасете.\n",
    "\n",
    "***Часть 2. Предобработка данных:***\n",
    "1. Проверка данных на наличие пропусков, дубликатов и ошибок.\n",
    "2. Приведение данных к нужным типам и устранение пропусков.\n",
    "\n",
    "***Часть 3. Исследовательский анализ данных (EDA):***\n",
    "1. Проведение статистического анализа признаков.\n",
    "2. Построение графиков для изучения распределений признаков и взаимосвязей между ними.\n",
    "\n",
    "***Часть 4. Обучение  моделей:***\n",
    "1. Добавление признаков\n",
    "2. Использование инструмента подбора гиперпараметров.\n",
    "3. Обучение моделей прогнозирования.\n",
    "4. Оценка качества модели на основе метрик и времени обучения. \n",
    "\n",
    "***Часть 5. Общий вывод:***\n",
    "1. Выбор лучшей модели.\n",
    "2. Выводы для выбранного сегмента покупателей.\n"
   ]
  },
  {
   "cell_type": "markdown",
   "metadata": {},
   "source": [
    "## Загрузка данных"
   ]
  },
  {
   "cell_type": "markdown",
   "metadata": {},
   "source": [
    "___\n",
    "    Импортируем все необходимые нам библиотеки\n",
    "---"
   ]
  },
  {
   "cell_type": "code",
   "execution_count": 1,
   "metadata": {
    "execution": {
     "iopub.execute_input": "2025-04-17T06:22:20.913946Z",
     "iopub.status.busy": "2025-04-17T06:22:20.913727Z",
     "iopub.status.idle": "2025-04-17T06:22:24.130593Z",
     "shell.execute_reply": "2025-04-17T06:22:24.129658Z",
     "shell.execute_reply.started": "2025-04-17T06:22:20.913925Z"
    }
   },
   "outputs": [],
   "source": [
    "import pandas as pd\n",
    "import numpy as np\n",
    "import matplotlib.pyplot as plt\n",
    "import seaborn as sns\n",
    "import matplotlib.dates as mdates\n",
    "import re\n",
    "\n",
    "\n",
    "from scipy import stats as st\n",
    "from sklearn.model_selection import train_test_split, RandomizedSearchCV, GridSearchCV, TimeSeriesSplit\n",
    "from sklearn.linear_model import LinearRegression, LogisticRegression\n",
    "from sklearn.pipeline import Pipeline\n",
    "from sklearn.compose import ColumnTransformer\n",
    "from sklearn.impute import SimpleImputer\n",
    "from sklearn.neighbors import KNeighborsRegressor\n",
    "from sklearn.tree import DecisionTreeRegressor\n",
    "from sklearn.ensemble import RandomForestRegressor\n",
    "from sklearn.svm import SVC, SVR\n",
    "from lightgbm import LGBMRegressor\n",
    "from statsmodels.tsa.seasonal import seasonal_decompose\n",
    "from sklearn.preprocessing import (\n",
    "    OneHotEncoder, \n",
    "    StandardScaler, \n",
    "    LabelEncoder, \n",
    "    OrdinalEncoder, \n",
    "    StandardScaler, \n",
    "    MinMaxScaler,\n",
    "    RobustScaler\n",
    ")\n",
    "from sklearn.metrics import (\n",
    "    r2_score,\n",
    "    mean_squared_error, \n",
    "    roc_auc_score,\n",
    "    mean_absolute_error, \n",
    "    accuracy_score, \n",
    "    precision_score,\n",
    "    recall_score, \n",
    "    confusion_matrix\n",
    ")\n",
    "\n",
    "\n",
    "plt.rcParams[\"figure.figsize\"] = (9,6)\n",
    "RANDOM_STATE = 42\n",
    "TEST_SIZE = 0.1"
   ]
  },
  {
   "cell_type": "markdown",
   "metadata": {},
   "source": [
    "___\n",
    "    Загрузим данные\n",
    "___"
   ]
  },
  {
   "cell_type": "code",
   "execution_count": 2,
   "metadata": {
    "execution": {
     "iopub.execute_input": "2025-04-17T06:22:24.132436Z",
     "iopub.status.busy": "2025-04-17T06:22:24.131477Z",
     "iopub.status.idle": "2025-04-17T06:22:24.176950Z",
     "shell.execute_reply": "2025-04-17T06:22:24.175978Z",
     "shell.execute_reply.started": "2025-04-17T06:22:24.132378Z"
    }
   },
   "outputs": [],
   "source": [
    "try:\n",
    "    df_taxi = pd.read_csv(\"/kaggle/input/yp-taxi/taxi.csv\")\n",
    "\n",
    "except:\n",
    "    df_taxi = pd.read_csv(\"https://code.s3.yandex.net/datasets/taxi.csv\")"
   ]
  },
  {
   "cell_type": "markdown",
   "metadata": {},
   "source": [
    "---\n",
    "    Изучим предоставленные данные\n",
    "---"
   ]
  },
  {
   "cell_type": "code",
   "execution_count": 3,
   "metadata": {
    "execution": {
     "iopub.execute_input": "2025-04-17T06:22:24.178254Z",
     "iopub.status.busy": "2025-04-17T06:22:24.177992Z",
     "iopub.status.idle": "2025-04-17T06:22:24.190172Z",
     "shell.execute_reply": "2025-04-17T06:22:24.189215Z",
     "shell.execute_reply.started": "2025-04-17T06:22:24.178218Z"
    }
   },
   "outputs": [
    {
     "data": {
      "text/html": [
       "<div>\n",
       "<style scoped>\n",
       "    .dataframe tbody tr th:only-of-type {\n",
       "        vertical-align: middle;\n",
       "    }\n",
       "\n",
       "    .dataframe tbody tr th {\n",
       "        vertical-align: top;\n",
       "    }\n",
       "\n",
       "    .dataframe thead th {\n",
       "        text-align: right;\n",
       "    }\n",
       "</style>\n",
       "<table border=\"1\" class=\"dataframe\">\n",
       "  <thead>\n",
       "    <tr style=\"text-align: right;\">\n",
       "      <th></th>\n",
       "      <th>datetime</th>\n",
       "      <th>num_orders</th>\n",
       "    </tr>\n",
       "  </thead>\n",
       "  <tbody>\n",
       "    <tr>\n",
       "      <th>0</th>\n",
       "      <td>2018-03-01 00:00:00</td>\n",
       "      <td>9</td>\n",
       "    </tr>\n",
       "    <tr>\n",
       "      <th>1</th>\n",
       "      <td>2018-03-01 00:10:00</td>\n",
       "      <td>14</td>\n",
       "    </tr>\n",
       "    <tr>\n",
       "      <th>2</th>\n",
       "      <td>2018-03-01 00:20:00</td>\n",
       "      <td>28</td>\n",
       "    </tr>\n",
       "    <tr>\n",
       "      <th>3</th>\n",
       "      <td>2018-03-01 00:30:00</td>\n",
       "      <td>20</td>\n",
       "    </tr>\n",
       "    <tr>\n",
       "      <th>4</th>\n",
       "      <td>2018-03-01 00:40:00</td>\n",
       "      <td>32</td>\n",
       "    </tr>\n",
       "  </tbody>\n",
       "</table>\n",
       "</div>"
      ],
      "text/plain": [
       "              datetime  num_orders\n",
       "0  2018-03-01 00:00:00           9\n",
       "1  2018-03-01 00:10:00          14\n",
       "2  2018-03-01 00:20:00          28\n",
       "3  2018-03-01 00:30:00          20\n",
       "4  2018-03-01 00:40:00          32"
      ]
     },
     "execution_count": 3,
     "metadata": {},
     "output_type": "execute_result"
    }
   ],
   "source": [
    "df_taxi.head()"
   ]
  },
  {
   "cell_type": "code",
   "execution_count": 4,
   "metadata": {
    "execution": {
     "iopub.execute_input": "2025-04-17T06:22:24.191602Z",
     "iopub.status.busy": "2025-04-17T06:22:24.191323Z",
     "iopub.status.idle": "2025-04-17T06:22:24.211993Z",
     "shell.execute_reply": "2025-04-17T06:22:24.210900Z",
     "shell.execute_reply.started": "2025-04-17T06:22:24.191571Z"
    }
   },
   "outputs": [
    {
     "name": "stdout",
     "output_type": "stream",
     "text": [
      "<class 'pandas.core.frame.DataFrame'>\n",
      "RangeIndex: 26496 entries, 0 to 26495\n",
      "Data columns (total 2 columns):\n",
      " #   Column      Non-Null Count  Dtype \n",
      "---  ------      --------------  ----- \n",
      " 0   datetime    26496 non-null  object\n",
      " 1   num_orders  26496 non-null  int64 \n",
      "dtypes: int64(1), object(1)\n",
      "memory usage: 414.1+ KB\n"
     ]
    }
   ],
   "source": [
    "df_taxi.info()"
   ]
  },
  {
   "cell_type": "markdown",
   "metadata": {},
   "source": [
    "___ \n",
    "Обратимся к документации таблицы для определения значений столбцов:\n",
    "    \n",
    "**taxi.csv**. Описание данных:\n",
    "\n",
    "Таблица, которая содержит данные о поведении покупателя на сайте, о коммуникациях с покупателем и его продуктовом поведении.\n",
    "\n",
    "1. datetime — дата и время заказа такси\n",
    "2. num_orders — количество заказов \n",
    "___"
   ]
  },
  {
   "cell_type": "markdown",
   "metadata": {},
   "source": [
    "___ \n",
    "    По первичному просмотру данных можно сказать, что:\n",
    "    1. Пропуски в столбах отсутствуют\n",
    "    2. Наименования столбцов соответствуют стандартам\n",
    "    3. datetime необходимо привести к формату даты\n",
    "___"
   ]
  },
  {
   "cell_type": "markdown",
   "metadata": {},
   "source": [
    "##  Предобработка данных"
   ]
  },
  {
   "cell_type": "markdown",
   "metadata": {},
   "source": [
    "---\n",
    "    На этом этапе, необходимо проверить данные на наличие дубликатов. \n",
    "    При необходимости устранить все проблемы с данными.\n",
    "---"
   ]
  },
  {
   "cell_type": "markdown",
   "metadata": {},
   "source": [
    "___\n",
    "    Проверим данные на наличие полных дубликатов и удалим их, если они есть\n",
    "___"
   ]
  },
  {
   "cell_type": "code",
   "execution_count": 5,
   "metadata": {
    "execution": {
     "iopub.execute_input": "2025-04-17T06:22:24.215737Z",
     "iopub.status.busy": "2025-04-17T06:22:24.215176Z",
     "iopub.status.idle": "2025-04-17T06:22:24.238709Z",
     "shell.execute_reply": "2025-04-17T06:22:24.237284Z",
     "shell.execute_reply.started": "2025-04-17T06:22:24.215714Z"
    }
   },
   "outputs": [
    {
     "data": {
      "text/plain": [
       "0"
      ]
     },
     "execution_count": 5,
     "metadata": {},
     "output_type": "execute_result"
    }
   ],
   "source": [
    "df_taxi.duplicated().sum()"
   ]
  },
  {
   "cell_type": "markdown",
   "metadata": {},
   "source": [
    "---\n",
    "    Дублиткатов нет\n",
    "---"
   ]
  },
  {
   "cell_type": "markdown",
   "metadata": {},
   "source": [
    "---\n",
    "    Приведём datetime к формату даты\n",
    "---"
   ]
  },
  {
   "cell_type": "code",
   "execution_count": 6,
   "metadata": {
    "execution": {
     "iopub.execute_input": "2025-04-17T06:22:24.239998Z",
     "iopub.status.busy": "2025-04-17T06:22:24.239661Z",
     "iopub.status.idle": "2025-04-17T06:22:24.258670Z",
     "shell.execute_reply": "2025-04-17T06:22:24.257572Z",
     "shell.execute_reply.started": "2025-04-17T06:22:24.239968Z"
    }
   },
   "outputs": [],
   "source": [
    "df_taxi['datetime'] = pd.to_datetime(df_taxi['datetime'])"
   ]
  },
  {
   "cell_type": "markdown",
   "metadata": {},
   "source": [
    "___\n",
    "    Нам необходимо выполнить ресемплирование данных по одному часу\n",
    "___"
   ]
  },
  {
   "cell_type": "code",
   "execution_count": 7,
   "metadata": {
    "execution": {
     "iopub.execute_input": "2025-04-17T06:22:24.260023Z",
     "iopub.status.busy": "2025-04-17T06:22:24.259740Z",
     "iopub.status.idle": "2025-04-17T06:22:24.279113Z",
     "shell.execute_reply": "2025-04-17T06:22:24.278230Z",
     "shell.execute_reply.started": "2025-04-17T06:22:24.260000Z"
    }
   },
   "outputs": [],
   "source": [
    "df_taxi.set_index('datetime', inplace=True)"
   ]
  },
  {
   "cell_type": "code",
   "execution_count": 8,
   "metadata": {
    "execution": {
     "iopub.execute_input": "2025-04-17T06:22:24.280587Z",
     "iopub.status.busy": "2025-04-17T06:22:24.280312Z",
     "iopub.status.idle": "2025-04-17T06:22:24.300395Z",
     "shell.execute_reply": "2025-04-17T06:22:24.299517Z",
     "shell.execute_reply.started": "2025-04-17T06:22:24.280565Z"
    }
   },
   "outputs": [
    {
     "data": {
      "text/plain": [
       "True"
      ]
     },
     "execution_count": 8,
     "metadata": {},
     "output_type": "execute_result"
    }
   ],
   "source": [
    "df_taxi.index.is_monotonic_increasing"
   ]
  },
  {
   "cell_type": "code",
   "execution_count": 9,
   "metadata": {
    "execution": {
     "iopub.execute_input": "2025-04-17T06:22:24.301841Z",
     "iopub.status.busy": "2025-04-17T06:22:24.301509Z",
     "iopub.status.idle": "2025-04-17T06:22:24.320185Z",
     "shell.execute_reply": "2025-04-17T06:22:24.319367Z",
     "shell.execute_reply.started": "2025-04-17T06:22:24.301814Z"
    }
   },
   "outputs": [],
   "source": [
    "df_taxi = df_taxi.resample('1h').sum()"
   ]
  },
  {
   "cell_type": "code",
   "execution_count": 10,
   "metadata": {
    "execution": {
     "iopub.execute_input": "2025-04-17T06:22:24.321921Z",
     "iopub.status.busy": "2025-04-17T06:22:24.321215Z",
     "iopub.status.idle": "2025-04-17T06:22:24.343158Z",
     "shell.execute_reply": "2025-04-17T06:22:24.342331Z",
     "shell.execute_reply.started": "2025-04-17T06:22:24.321861Z"
    }
   },
   "outputs": [
    {
     "data": {
      "text/html": [
       "<div>\n",
       "<style scoped>\n",
       "    .dataframe tbody tr th:only-of-type {\n",
       "        vertical-align: middle;\n",
       "    }\n",
       "\n",
       "    .dataframe tbody tr th {\n",
       "        vertical-align: top;\n",
       "    }\n",
       "\n",
       "    .dataframe thead th {\n",
       "        text-align: right;\n",
       "    }\n",
       "</style>\n",
       "<table border=\"1\" class=\"dataframe\">\n",
       "  <thead>\n",
       "    <tr style=\"text-align: right;\">\n",
       "      <th></th>\n",
       "      <th>num_orders</th>\n",
       "    </tr>\n",
       "    <tr>\n",
       "      <th>datetime</th>\n",
       "      <th></th>\n",
       "    </tr>\n",
       "  </thead>\n",
       "  <tbody>\n",
       "    <tr>\n",
       "      <th>2018-03-01 00:00:00</th>\n",
       "      <td>124</td>\n",
       "    </tr>\n",
       "    <tr>\n",
       "      <th>2018-03-01 01:00:00</th>\n",
       "      <td>85</td>\n",
       "    </tr>\n",
       "    <tr>\n",
       "      <th>2018-03-01 02:00:00</th>\n",
       "      <td>71</td>\n",
       "    </tr>\n",
       "    <tr>\n",
       "      <th>2018-03-01 03:00:00</th>\n",
       "      <td>66</td>\n",
       "    </tr>\n",
       "    <tr>\n",
       "      <th>2018-03-01 04:00:00</th>\n",
       "      <td>43</td>\n",
       "    </tr>\n",
       "  </tbody>\n",
       "</table>\n",
       "</div>"
      ],
      "text/plain": [
       "                     num_orders\n",
       "datetime                       \n",
       "2018-03-01 00:00:00         124\n",
       "2018-03-01 01:00:00          85\n",
       "2018-03-01 02:00:00          71\n",
       "2018-03-01 03:00:00          66\n",
       "2018-03-01 04:00:00          43"
      ]
     },
     "execution_count": 10,
     "metadata": {},
     "output_type": "execute_result"
    }
   ],
   "source": [
    "df_taxi.head()"
   ]
  },
  {
   "cell_type": "markdown",
   "metadata": {},
   "source": [
    "___\n",
    "    На этом этапе мы:\n",
    "    - изменили тип у datetime и сделали его индексом\n",
    "    - провели ресемплирование данных по 1 часу\n",
    "    \n",
    "    Можем перейти к Анализу данных\n",
    "___"
   ]
  },
  {
   "cell_type": "markdown",
   "metadata": {},
   "source": [
    "## Исследовательский анализ данных"
   ]
  },
  {
   "cell_type": "markdown",
   "metadata": {},
   "source": [
    "\n",
    "\n",
    "___\n",
    "\n",
    "    На этом этапе нам предстоит:\n",
    "    - Провести анализ данных\n",
    "    - Сделать выводы о данных\n",
    "___\n"
   ]
  },
  {
   "cell_type": "code",
   "execution_count": 11,
   "metadata": {
    "execution": {
     "iopub.execute_input": "2025-04-17T06:22:24.344275Z",
     "iopub.status.busy": "2025-04-17T06:22:24.343992Z",
     "iopub.status.idle": "2025-04-17T06:22:24.362481Z",
     "shell.execute_reply": "2025-04-17T06:22:24.361591Z",
     "shell.execute_reply.started": "2025-04-17T06:22:24.344220Z"
    }
   },
   "outputs": [
    {
     "name": "stdout",
     "output_type": "stream",
     "text": [
      "Дата min: 2018-03-01 00:00:00\n",
      "Дата max: 2018-08-31 23:00:00\n"
     ]
    }
   ],
   "source": [
    "print(f'Дата min: {df_taxi.index.min()}')\n",
    "print(f'Дата max: {df_taxi.index.max()}')"
   ]
  },
  {
   "cell_type": "markdown",
   "metadata": {},
   "source": [
    "\n",
    "\n",
    "___\n",
    "\n",
    "    Мы имеем данные с марта по август 2018 года\n",
    "___\n"
   ]
  },
  {
   "cell_type": "code",
   "execution_count": 12,
   "metadata": {
    "execution": {
     "iopub.execute_input": "2025-04-17T06:22:24.363882Z",
     "iopub.status.busy": "2025-04-17T06:22:24.363604Z",
     "iopub.status.idle": "2025-04-17T06:22:24.386599Z",
     "shell.execute_reply": "2025-04-17T06:22:24.385739Z",
     "shell.execute_reply.started": "2025-04-17T06:22:24.363861Z"
    }
   },
   "outputs": [],
   "source": [
    "decomposed = seasonal_decompose(df_taxi)"
   ]
  },
  {
   "cell_type": "code",
   "execution_count": 13,
   "metadata": {
    "execution": {
     "iopub.execute_input": "2025-04-17T06:22:24.387976Z",
     "iopub.status.busy": "2025-04-17T06:22:24.387618Z",
     "iopub.status.idle": "2025-04-17T06:22:24.626829Z",
     "shell.execute_reply": "2025-04-17T06:22:24.625598Z",
     "shell.execute_reply.started": "2025-04-17T06:22:24.387953Z"
    }
   },
   "outputs": [
    {
     "data": {
      "image/png": "[encoded data removed]",
      "text/plain": [
       "<Figure size 648x432 with 1 Axes>"
      ]
     },
     "metadata": {
      "needs_background": "light"
     },
     "output_type": "display_data"
    }
   ],
   "source": [
    "seasonal = decomposed.seasonal\n",
    "\n",
    "seasonal_mar_15 = seasonal['2018-03-01':'2018-03-07']\n",
    "plt.xlabel('Временной отрезок')\n",
    "plt.ylabel('Кол-во заказов такси')\n",
    "plt.title('Кол-во заказов такси: неделя')\n",
    "seasonal_mar_15.plot(ax=plt.gca()) \n",
    "plt.show()"
   ]
  },
  {
   "cell_type": "code",
   "execution_count": 14,
   "metadata": {
    "execution": {
     "iopub.execute_input": "2025-04-17T06:22:24.628224Z",
     "iopub.status.busy": "2025-04-17T06:22:24.627848Z",
     "iopub.status.idle": "2025-04-17T06:22:24.636661Z",
     "shell.execute_reply": "2025-04-17T06:22:24.635697Z",
     "shell.execute_reply.started": "2025-04-17T06:22:24.628192Z"
    }
   },
   "outputs": [
    {
     "data": {
      "text/plain": [
       "datetime\n",
       "2018-03-01 00:00:00    60.248112\n",
       "2018-03-01 01:00:00    20.177074\n",
       "2018-03-01 02:00:00    28.982743\n",
       "2018-03-01 03:00:00    17.885407\n",
       "2018-03-01 04:00:00     2.791145\n",
       "2018-03-01 05:00:00   -41.563022\n",
       "2018-03-01 06:00:00   -59.182671\n",
       "2018-03-01 07:00:00   -55.104461\n",
       "2018-03-01 08:00:00   -11.212840\n",
       "2018-03-01 09:00:00     4.443581\n",
       "2018-03-01 10:00:00     8.759269\n",
       "2018-03-01 11:00:00    -2.133377\n",
       "2018-03-01 12:00:00   -16.721606\n",
       "2018-03-01 13:00:00   -13.352412\n",
       "2018-03-01 14:00:00    -9.191665\n",
       "2018-03-01 15:00:00     3.731832\n",
       "2018-03-01 16:00:00    29.604100\n",
       "2018-03-01 17:00:00     7.920016\n",
       "2018-03-01 18:00:00   -15.527958\n",
       "2018-03-01 19:00:00    -7.124270\n",
       "2018-03-01 20:00:00    -2.696560\n",
       "2018-03-01 21:00:00    10.670243\n",
       "2018-03-01 22:00:00    13.596814\n",
       "2018-03-01 23:00:00    25.000503\n",
       "Freq: H, Name: seasonal, dtype: float64"
      ]
     },
     "execution_count": 14,
     "metadata": {},
     "output_type": "execute_result"
    }
   ],
   "source": [
    "seasonal.head(24)"
   ]
  },
  {
   "cell_type": "markdown",
   "metadata": {},
   "source": [
    "\n",
    "\n",
    "___\n",
    "\n",
    "    По  графику видим, что пик нагрузок приходится на полуночь и достаточно много заказов в 16 часа, а самый минимум — в 5-7 утра\n",
    "___\n"
   ]
  },
  {
   "cell_type": "code",
   "execution_count": 15,
   "metadata": {
    "execution": {
     "iopub.execute_input": "2025-04-17T06:22:24.638055Z",
     "iopub.status.busy": "2025-04-17T06:22:24.637712Z",
     "iopub.status.idle": "2025-04-17T06:22:24.660341Z",
     "shell.execute_reply": "2025-04-17T06:22:24.658966Z",
     "shell.execute_reply.started": "2025-04-17T06:22:24.638026Z"
    }
   },
   "outputs": [],
   "source": [
    "df_taxi_analize = df_taxi.copy()\n",
    "df_taxi_analize['rolling_mean'] = df_taxi_analize['num_orders'].rolling(10).mean()\n",
    "df_taxi_analize['std']          = df_taxi_analize['num_orders'].rolling(10).std()"
   ]
  },
  {
   "cell_type": "code",
   "execution_count": 16,
   "metadata": {
    "execution": {
     "iopub.execute_input": "2025-04-17T06:22:24.661652Z",
     "iopub.status.busy": "2025-04-17T06:22:24.661391Z",
     "iopub.status.idle": "2025-04-17T06:22:25.043851Z",
     "shell.execute_reply": "2025-04-17T06:22:25.042973Z",
     "shell.execute_reply.started": "2025-04-17T06:22:24.661632Z"
    }
   },
   "outputs": [
    {
     "data": {
      "image/png": "[encoded data removed]",
      "text/plain": [
       "<Figure size 648x432 with 1 Axes>"
      ]
     },
     "metadata": {
      "needs_background": "light"
     },
     "output_type": "display_data"
    }
   ],
   "source": [
    "plt.xlabel('Временной отрезок')\n",
    "plt.ylabel('Кол-во заказов такси')\n",
    "plt.title('Кол-во заказов такси: 6 месяцев')\n",
    "df_taxi_analize.plot(ax=plt.gca())\n",
    "plt.show()"
   ]
  },
  {
   "cell_type": "markdown",
   "metadata": {},
   "source": [
    "\n",
    "\n",
    "___\n",
    "    Постепенно от марта к августу заказы такси растут\n",
    "    Самый пик - в августе\n",
    "___\n"
   ]
  },
  {
   "cell_type": "markdown",
   "metadata": {},
   "source": [
    "___\n",
    "###    Вывод:\n",
    "\n",
    "   **Ежедневно**\n",
    "\n",
    "    Пик нагрузки приходиться на полуночь\n",
    "    Также, большая нагрузка приходится на 16 часов\n",
    "\n",
    "    Минимум заказов приходиться на 5-7 утра\n",
    "\n",
    "   **В общем**\n",
    "\n",
    "    Постепенно от марта к августу заказы такси растут\n",
    "    Самый пик - в августе\n",
    "___"
   ]
  },
  {
   "cell_type": "markdown",
   "metadata": {},
   "source": [
    "## Обучение моделей"
   ]
  },
  {
   "cell_type": "markdown",
   "metadata": {},
   "source": [
    "---\n",
    "    Создадим признаки\n",
    "---"
   ]
  },
  {
   "cell_type": "code",
   "execution_count": 17,
   "metadata": {
    "execution": {
     "iopub.execute_input": "2025-04-17T06:22:25.045281Z",
     "iopub.status.busy": "2025-04-17T06:22:25.044988Z",
     "iopub.status.idle": "2025-04-17T06:22:25.051080Z",
     "shell.execute_reply": "2025-04-17T06:22:25.050046Z",
     "shell.execute_reply.started": "2025-04-17T06:22:25.045227Z"
    }
   },
   "outputs": [],
   "source": [
    "def make_features(data, max_lag, rolling_mean_size):\n",
    "    data['month'] = data.index.month\n",
    "    data['day'] = data.index.day\n",
    "    data['dayofweek'] = data.index.dayofweek\n",
    "    data['hour'] = data.index.hour\n",
    "    \n",
    "    for lag in range(1, max_lag + 1):\n",
    "        data['lag_{}'.format(lag)] = data['num_orders'].shift(lag)\n",
    "\n",
    "    data['rolling_mean'] = data['num_orders'].shift().rolling(rolling_mean_size).mean()"
   ]
  },
  {
   "cell_type": "code",
   "execution_count": 18,
   "metadata": {
    "execution": {
     "iopub.execute_input": "2025-04-17T06:22:25.052399Z",
     "iopub.status.busy": "2025-04-17T06:22:25.052091Z",
     "iopub.status.idle": "2025-04-17T06:22:25.077010Z",
     "shell.execute_reply": "2025-04-17T06:22:25.076126Z",
     "shell.execute_reply.started": "2025-04-17T06:22:25.052378Z"
    }
   },
   "outputs": [],
   "source": [
    "lag = 7\n",
    "make_features(df_taxi, lag, 5)"
   ]
  },
  {
   "cell_type": "markdown",
   "metadata": {},
   "source": [
    "---\n",
    "    Разделим выборку\n",
    "---"
   ]
  },
  {
   "cell_type": "code",
   "execution_count": 19,
   "metadata": {
    "execution": {
     "iopub.execute_input": "2025-04-17T06:22:25.078423Z",
     "iopub.status.busy": "2025-04-17T06:22:25.078056Z",
     "iopub.status.idle": "2025-04-17T06:22:25.088055Z",
     "shell.execute_reply": "2025-04-17T06:22:25.087075Z",
     "shell.execute_reply.started": "2025-04-17T06:22:25.078393Z"
    }
   },
   "outputs": [],
   "source": [
    "train, test = train_test_split(df_taxi, shuffle=False, test_size=TEST_SIZE)\n",
    "train = train.dropna()"
   ]
  },
  {
   "cell_type": "code",
   "execution_count": 20,
   "metadata": {
    "execution": {
     "iopub.execute_input": "2025-04-17T06:22:25.092666Z",
     "iopub.status.busy": "2025-04-17T06:22:25.091872Z",
     "iopub.status.idle": "2025-04-17T06:22:25.100893Z",
     "shell.execute_reply": "2025-04-17T06:22:25.100039Z",
     "shell.execute_reply.started": "2025-04-17T06:22:25.092641Z"
    }
   },
   "outputs": [],
   "source": [
    "features = ['hour', 'month', 'day', 'dayofweek', 'rolling_mean'] + ['lag_{}'.format(i) for i in range(1, lag)]\n",
    "X_train = train[features]\n",
    "y_train = train['num_orders']\n",
    "\n",
    "X_test = test[features]\n",
    "y_test = test['num_orders']"
   ]
  },
  {
   "cell_type": "markdown",
   "metadata": {},
   "source": [
    "---\n",
    "    Выберем модели, которые будут обучаться\n",
    "---"
   ]
  },
  {
   "cell_type": "code",
   "execution_count": 21,
   "metadata": {
    "execution": {
     "iopub.execute_input": "2025-04-17T06:22:25.102633Z",
     "iopub.status.busy": "2025-04-17T06:22:25.102292Z",
     "iopub.status.idle": "2025-04-17T06:22:25.120255Z",
     "shell.execute_reply": "2025-04-17T06:22:25.119156Z",
     "shell.execute_reply.started": "2025-04-17T06:22:25.102605Z"
    }
   },
   "outputs": [],
   "source": [
    "pipe_final = Pipeline([\n",
    "    ('preprocessor', None),\n",
    "    ('models', None)\n",
    "])"
   ]
  },
  {
   "cell_type": "code",
   "execution_count": 22,
   "metadata": {
    "execution": {
     "iopub.execute_input": "2025-04-17T06:22:25.121616Z",
     "iopub.status.busy": "2025-04-17T06:22:25.121332Z",
     "iopub.status.idle": "2025-04-17T06:22:25.139268Z",
     "shell.execute_reply": "2025-04-17T06:22:25.138330Z",
     "shell.execute_reply.started": "2025-04-17T06:22:25.121596Z"
    }
   },
   "outputs": [],
   "source": [
    "param_grid = [\n",
    "    # словарь для модели RandomForestRegressor()\n",
    "    {\n",
    "    'models': [RandomForestRegressor(random_state=RANDOM_STATE)],\n",
    "    'models__n_estimators': [50, 100],\n",
    "    'models__max_depth': [None, 10, 20, 30],\n",
    "    'models__min_samples_split': [2, 5, 10],\n",
    "    'models__min_samples_leaf': [1, 2, 4],\n",
    "    'models__max_features': ['auto', 'sqrt', 'log2']\n",
    "    },\n",
    "    # словарь для модели DecisionTreeRegressor()\n",
    "    {\n",
    "        'models': [DecisionTreeRegressor(random_state=RANDOM_STATE)],\n",
    "        'models__max_depth': [None, 3, 5, 7, 10], \n",
    "        'models__min_samples_split': [2, 5, 10], \n",
    "        'models__min_samples_leaf': [1, 2, 4], \n",
    "    },\n",
    "    # словарь для модели LinearRegression()\n",
    "    {\n",
    "        'models': [LinearRegression()],\n",
    "    },\n",
    "\n",
    "]"
   ]
  },
  {
   "cell_type": "code",
   "execution_count": 23,
   "metadata": {
    "execution": {
     "iopub.execute_input": "2025-04-17T06:22:25.140661Z",
     "iopub.status.busy": "2025-04-17T06:22:25.140337Z",
     "iopub.status.idle": "2025-04-17T06:22:43.616425Z",
     "shell.execute_reply": "2025-04-17T06:22:43.615226Z",
     "shell.execute_reply.started": "2025-04-17T06:22:25.140632Z"
    }
   },
   "outputs": [
    {
     "data": {
      "text/plain": [
       "RandomizedSearchCV(cv=TimeSeriesSplit(gap=0, max_train_size=None, n_splits=5, test_size=None),\n",
       "                   estimator=Pipeline(steps=[('preprocessor', None),\n",
       "                                             ('models', None)]),\n",
       "                   n_jobs=-1,\n",
       "                   param_distributions=[{'models': [RandomForestRegressor(min_samples_leaf=2,\n",
       "                                                                          min_samples_split=5,\n",
       "                                                                          random_state=42)],\n",
       "                                         'models__max_depth': [None, 10, 20,\n",
       "                                                               30],\n",
       "                                         'models__max_features': ['auto',\n",
       "                                                                  'sqrt...\n",
       "                                         'models__min_samples_leaf': [1, 2, 4],\n",
       "                                         'models__min_samples_split': [2, 5,\n",
       "                                                                       10],\n",
       "                                         'models__n_estimators': [50, 100]},\n",
       "                                        {'models': [DecisionTreeRegressor(random_state=42)],\n",
       "                                         'models__max_depth': [None, 3, 5, 7,\n",
       "                                                               10],\n",
       "                                         'models__min_samples_leaf': [1, 2, 4],\n",
       "                                         'models__min_samples_split': [2, 5,\n",
       "                                                                       10]},\n",
       "                                        {'models': [LinearRegression()]}],\n",
       "                   random_state=42, scoring='neg_root_mean_squared_error')"
      ]
     },
     "execution_count": 23,
     "metadata": {},
     "output_type": "execute_result"
    }
   ],
   "source": [
    "tscv = TimeSeriesSplit(n_splits=5)\n",
    "\n",
    "randomized_search = RandomizedSearchCV(\n",
    "    pipe_final, \n",
    "    param_grid, \n",
    "    cv=tscv,\n",
    "    scoring='neg_root_mean_squared_error',\n",
    "    random_state=RANDOM_STATE,\n",
    "    n_jobs=-1,\n",
    ")\n",
    "randomized_search.fit(X_train, y_train)"
   ]
  },
  {
   "cell_type": "markdown",
   "metadata": {},
   "source": [
    "___\n",
    "    Используем метрику RMSE\n",
    "___"
   ]
  },
  {
   "cell_type": "code",
   "execution_count": 24,
   "metadata": {
    "execution": {
     "iopub.execute_input": "2025-04-17T06:22:43.618150Z",
     "iopub.status.busy": "2025-04-17T06:22:43.617794Z",
     "iopub.status.idle": "2025-04-17T06:22:43.625561Z",
     "shell.execute_reply": "2025-04-17T06:22:43.624544Z",
     "shell.execute_reply.started": "2025-04-17T06:22:43.618108Z"
    }
   },
   "outputs": [
    {
     "name": "stdout",
     "output_type": "stream",
     "text": [
      "Лучшая модель и её параметры:\n",
      "\n",
      " Pipeline(steps=[('preprocessor', None),\n",
      "                ('models',\n",
      "                 RandomForestRegressor(min_samples_leaf=2, min_samples_split=5,\n",
      "                                       random_state=42))])\n",
      "Метрика лучшей модели на тренировочной выборке: -25.577941493233208\n"
     ]
    }
   ],
   "source": [
    "print('Лучшая модель и её параметры:\\n\\n', randomized_search.best_estimator_)\n",
    "print ('Метрика лучшей модели на тренировочной выборке:', randomized_search.best_score_)"
   ]
  },
  {
   "cell_type": "markdown",
   "metadata": {},
   "source": [
    "___\n",
    "    Лучшая модель с параметрами:\n",
    "    RandomForestRegressor(max_features='auto', min_samples_leaf=2, min_samples_split=5, random_state=42)\n",
    "___"
   ]
  },
  {
   "cell_type": "markdown",
   "metadata": {
    "execution": {
     "iopub.execute_input": "2024-10-11T13:18:36.481920Z",
     "iopub.status.busy": "2024-10-11T13:18:36.481554Z",
     "iopub.status.idle": "2024-10-11T13:18:36.757862Z",
     "shell.execute_reply": "2024-10-11T13:18:36.756585Z",
     "shell.execute_reply.started": "2024-10-11T13:18:36.481880Z"
    }
   },
   "source": [
    "---\n",
    "    Проверим работу модели на тестовой выборке\n",
    "    Рассчитаем прогноз на тестовых данных\n",
    "---"
   ]
  },
  {
   "cell_type": "code",
   "execution_count": 25,
   "metadata": {
    "execution": {
     "iopub.execute_input": "2025-04-17T06:22:43.626929Z",
     "iopub.status.busy": "2025-04-17T06:22:43.626583Z",
     "iopub.status.idle": "2025-04-17T06:22:43.655879Z",
     "shell.execute_reply": "2025-04-17T06:22:43.654918Z",
     "shell.execute_reply.started": "2025-04-17T06:22:43.626888Z"
    }
   },
   "outputs": [
    {
     "name": "stdout",
     "output_type": "stream",
     "text": [
      "Среднее предсказанное кол-во вызовов такси: 119.28\n",
      "Метрика RMSE на тестовой выборке: 44.95\n"
     ]
    }
   ],
   "source": [
    "y_test_pred = randomized_search.predict(X_test)\n",
    "\n",
    "rmse = np.sqrt(mean_squared_error(y_test, y_test_pred))\n",
    "\n",
    "print(f'Среднее предсказанное кол-во вызовов такси: {y_test_pred.mean():.2f}' )\n",
    "print(f'Метрика RMSE на тестовой выборке: {rmse:.2f}')"
   ]
  },
  {
   "cell_type": "markdown",
   "metadata": {},
   "source": [
    "## Общий вывод"
   ]
  },
  {
   "cell_type": "markdown",
   "metadata": {},
   "source": [
    "___\n",
    "**Вывод**\n",
    "\n",
    "    Были выполненные такие шаги:\n",
    "    1. Загрузка данных\n",
    "    2. Изучение и обработка данных\n",
    "    3. Обучение моделей\n",
    "    4. Выбор лучшей модели\n",
    "\n",
    "    Было выявлено, когда больше  всего заказов такси:\n",
    "    \n",
    "   **Ежедневно**\n",
    "   \n",
    "    Пик нагрузки приходиться на полуночь\n",
    "    Также, большая нагрузка приходится на 16 часов\n",
    "    Минимум заказов приходиться на 5-7 утра\n",
    "    \n",
    "   **В общем**\n",
    "   \n",
    "    Постепенно от марта к августу заказы такси растут\n",
    "    Самый пик - в августе\n",
    "\n",
    "  **Модель**\n",
    "  \n",
    "    Была выбрана лучшая модель: RandomForestRegressor \n",
    "    С параметрами: max_features='auto', min_samples_leaf=2, min_samples_split=5, random_state=42\n",
    "    Метрика RMSE на тестовой выборке: 44.95\n",
    "\n",
    "___"
   ]
  }
 ],
 "metadata": {
  "ExecuteTimeLog": [
   {
    "duration": 1665,
    "start_time": "2025-04-17T10:01:57.930Z"
   },
   {
    "duration": 169,
    "start_time": "2025-04-17T10:01:59.597Z"
   },
   {
    "duration": 11,
    "start_time": "2025-04-17T10:01:59.768Z"
   },
   {
    "duration": 13,
    "start_time": "2025-04-17T10:01:59.780Z"
   },
   {
    "duration": 13,
    "start_time": "2025-04-17T10:01:59.795Z"
   },
   {
    "duration": 8,
    "start_time": "2025-04-17T10:01:59.810Z"
   },
   {
    "duration": 9,
    "start_time": "2025-04-17T10:01:59.820Z"
   },
   {
    "duration": 31,
    "start_time": "2025-04-17T10:01:59.830Z"
   },
   {
    "duration": 8,
    "start_time": "2025-04-17T10:01:59.863Z"
   },
   {
    "duration": 7,
    "start_time": "2025-04-17T10:01:59.873Z"
   },
   {
    "duration": 6,
    "start_time": "2025-04-17T10:01:59.881Z"
   },
   {
    "duration": 11,
    "start_time": "2025-04-17T10:01:59.888Z"
   },
   {
    "duration": 198,
    "start_time": "2025-04-17T10:01:59.901Z"
   },
   {
    "duration": 6,
    "start_time": "2025-04-17T10:02:00.102Z"
   },
   {
    "duration": 30,
    "start_time": "2025-04-17T10:02:00.110Z"
   },
   {
    "duration": 419,
    "start_time": "2025-04-17T10:02:00.142Z"
   },
   {
    "duration": 4,
    "start_time": "2025-04-17T10:02:00.563Z"
   },
   {
    "duration": 16,
    "start_time": "2025-04-17T10:02:00.569Z"
   },
   {
    "duration": 8,
    "start_time": "2025-04-17T10:02:00.586Z"
   },
   {
    "duration": 6,
    "start_time": "2025-04-17T10:02:00.595Z"
   },
   {
    "duration": 4,
    "start_time": "2025-04-17T10:02:00.602Z"
   },
   {
    "duration": 7,
    "start_time": "2025-04-17T10:02:00.608Z"
   },
   {
    "duration": 18866,
    "start_time": "2025-04-17T10:02:00.617Z"
   },
   {
    "duration": 6,
    "start_time": "2025-04-17T10:02:19.484Z"
   },
   {
    "duration": 40,
    "start_time": "2025-04-17T10:02:19.491Z"
   }
  ],
  "kaggle": {
   "accelerator": "none",
   "dataSources": [
    {
     "datasetId": 7168496,
     "sourceId": 11443082,
     "sourceType": "datasetVersion"
    }
   ],
   "dockerImageVersionId": 31012,
   "isGpuEnabled": false,
   "isInternetEnabled": false,
   "language": "python",
   "sourceType": "notebook"
  },
  "kernelspec": {
   "display_name": "Python 3 (ipykernel)",
   "language": "python",
   "name": "python3"
  },
  "language_info": {
   "codemirror_mode": {
    "name": "ipython",
    "version": 3
   },
   "file_extension": ".py",
   "mimetype": "text/x-python",
   "name": "python",
   "nbconvert_exporter": "python",
   "pygments_lexer": "ipython3",
   "version": "3.9.5"
  },
  "toc": {
   "base_numbering": 1,
   "nav_menu": {},
   "number_sections": true,
   "sideBar": true,
   "skip_h1_title": true,
   "title_cell": "Table of Contents",
   "title_sidebar": "Contents",
   "toc_cell": false,
   "toc_position": {},
   "toc_section_display": true,
   "toc_window_display": false
  }
 },
 "nbformat": 4,
 "nbformat_minor": 4
}
